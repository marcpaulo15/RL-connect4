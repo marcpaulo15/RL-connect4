{
 "cells": [
  {
   "cell_type": "markdown",
   "metadata": {},
   "source": [
    "# Part 1) Supervised Learning. Dataset generator."
   ]
  },
  {
   "cell_type": "markdown",
   "metadata": {},
   "source": [
    "- **GOAL:** generate and save new data to be used in '_src/train/part1_supervised_learning.ipynb_'\n",
    "<br>\n",
    "- **ABOUT THE DATA:**\n",
    "    - the data represents the actions of a mid-level player of Connect4\n",
    "    - our mid-level player is a _1StepLookahead Agent_ instance\n",
    "    - the data is a set of (_obs_, _action_) pairs:\n",
    "         - _obs_ is a game board where 1 is the active player and -1 is the oppponent\n",
    "         - _action_ is the column that our mid-level player would choose to play in _obs_\n",
    "    - A Supervised Learning task: given an 'obs' (game board), predict its 'action' (classification)\n",
    "    - Our mid-level player is deterministic (there is no randomness in the selection of the action). We achieve this by setting the '_prefer_central_columns_' attribute to True.\n",
    "<br>\n",
    "- **DATA GENERATION:**\n",
    "    - initialize a non-terminal random board\n",
    "        - a _random board_ is a game board where some moves have already been played by a random player \n",
    "    - use _self-play_ to let the _1StepLookAheadAgent_ finish the random game\n",
    "        - the _1StepLA_ selects all the actions for both players (i.e. playing against itself)\n",
    "    - store the new sequence of (obs, action) pairs\n",
    "<br>\n",
    "- **PREPROCESS DATA BEFORE SAVING:**\n",
    "    - (1) replace -1 with 2 in the board\n",
    "    - (2) flatten the board and turn it into string format\n",
    "    - (3) apppend the action in string format\n",
    "    - in the standard Connect4 6x7 board:\n",
    "        - the '_board_' in string format is a sequence of 6x7=42 chars {'0','1','2'}\n",
    "        - the '_action_' is a string number from '0' to '6'\n",
    "        - the final sequence has 42+1=43 characters (what will be stored)\n",
    "<br>\n",
    "- **RESULTS:**\n",
    "    - 200k unique data pairs (_obs, action_) by a mid-level player.\n",
    "    - saved in 'src/data/part1_data/part1_supervised_learning_data.txt'"
   ]
  },
  {
   "cell_type": "markdown",
   "metadata": {},
   "source": [
    "## 1) Imports"
   ]
  },
  {
   "cell_type": "code",
   "execution_count": null,
   "metadata": {},
   "outputs": [],
   "source": [
    "import os\n",
    "\n",
    "import numpy as np"
   ]
  },
  {
   "cell_type": "code",
   "execution_count": null,
   "metadata": {},
   "outputs": [],
   "source": [
    "### YOUR PATH HERE\n",
    "code_dir = '/home/marc/Escritorio/RL-connect4/'\n",
    "\n",
    "if os.path.isdir(code_dir):\n",
    "    # local environment\n",
    "    os.chdir(code_dir)\n",
    "    print(f\"directory -> '{code_dir }'\")\n",
    "else:\n",
    "    # google colab environment (upload 'src.zip' and unzip it in the Colab environment)\n",
    "    if os.path.isdir('./src'):\n",
    "        print(\"'./src' dir already exists\")\n",
    "    else:  # not unzipped yet\n",
    "        !unzip -q src.zip\n",
    "        print(\"'./src.zip' file successfully unzipped\")"
   ]
  },
  {
   "cell_type": "code",
   "execution_count": null,
   "metadata": {},
   "outputs": [],
   "source": [
    "from src.agents.agent import Agent\n",
    "from src.environment.connect_game_env import ConnectGameEnv\n",
    "from src.environment.env_utils import random_action\n",
    "from src.agents.baselines.n_step_lookahead_agent import NStepLookaheadAgent"
   ]
  },
  {
   "cell_type": "markdown",
   "metadata": {},
   "source": [
    "## 2) Hyper parameters"
   ]
  },
  {
   "cell_type": "code",
   "execution_count": null,
   "metadata": {},
   "outputs": [],
   "source": [
    "hparams = {\n",
    "    'n_samples': 200000,\n",
    "    'saved_data_filepath': './src/data/part1_data/part1_supervised_learning_data.txt'\n",
    "}"
   ]
  },
  {
   "cell_type": "markdown",
   "metadata": {},
   "source": [
    "## 3) The environment and our mid-level player"
   ]
  },
  {
   "cell_type": "code",
   "execution_count": null,
   "metadata": {},
   "outputs": [],
   "source": [
    "env = ConnectGameEnv()\n",
    "\n",
    "agent = NStepLookaheadAgent(\n",
    "    n=1, \n",
    "    prefer_central_columns=True\n",
    ")"
   ]
  },
  {
   "cell_type": "markdown",
   "metadata": {},
   "source": [
    "## 4) Generate data"
   ]
  },
  {
   "cell_type": "code",
   "execution_count": null,
   "metadata": {},
   "outputs": [],
   "source": [
    "def obs_action_to_string(o, a):\n",
    "    \"\"\"\n",
    "    Turns an (obs, action) pair into string format\n",
    "    \n",
    "    :param o: observation (game board)\n",
    "    :param a: action\n",
    "    \"\"\"\n",
    "    obs_str = ''.join([str(int(i%3)) for i in o.flatten()])\n",
    "    action_str = str(a)\n",
    "    return obs_str + action_str\n",
    "\n",
    "example_obs = ConnectGameEnv.random_observation()\n",
    "example_action = random_action(board=example_obs)\n",
    "print('obs:\\n', example_obs)\n",
    "print('action:', example_action)\n",
    "print('(obs, action) in string format:', obs_action_to_string(example_obs, example_action))"
   ]
  },
  {
   "cell_type": "code",
   "execution_count": null,
   "metadata": {},
   "outputs": [],
   "source": [
    "new_data = set()"
   ]
  },
  {
   "cell_type": "code",
   "execution_count": null,
   "metadata": {
    "scrolled": false
   },
   "outputs": [],
   "source": [
    "log_every = 100\n",
    "while len(new_data) < hparams['n_samples']:\n",
    "    obs, _ = env.reset(init_random_obs=True)\n",
    "    done = False\n",
    "    while not done:\n",
    "        action = agent.choose_action(obs=obs)\n",
    "        obs_action_str = obs_action_to_string(o=obs, a=action)    \n",
    "        # if that pair is already in the data, start a new episode\n",
    "        if obs_action_str in new_data:\n",
    "            done = False\n",
    "        if not done:\n",
    "            new_data.add(obs_action_str)\n",
    "            # create its symmetry\n",
    "            sym_obs = np.flip(obs, axis=1)\n",
    "            sym_action = 6 - action\n",
    "            sym_obs_action_str = obs_action_to_string(o=sym_obs, a=sym_action)\n",
    "            new_data.add(sym_obs_action_str)\n",
    "            obs, _, done, _ = env.step(action=action)\n",
    "        if len(new_data) % log_every == 0:\n",
    "            print(f'{len(new_data)}/{hparams[\"n_samples\"]}')\n",
    "print('done!')"
   ]
  },
  {
   "cell_type": "markdown",
   "metadata": {},
   "source": [
    "## 5) Save the generated data"
   ]
  },
  {
   "cell_type": "code",
   "execution_count": null,
   "metadata": {},
   "outputs": [],
   "source": [
    "sep = ';'\n",
    "\n",
    "# consider only the first hparams['n_samples'] pairs\n",
    "lines = ''\n",
    "for i, d in enumerate(new_data):\n",
    "    lines += d + sep\n",
    "    if i == hparams['n_samples']:\n",
    "        break\n",
    "\n",
    "print(len(lines))"
   ]
  },
  {
   "cell_type": "code",
   "execution_count": null,
   "metadata": {},
   "outputs": [],
   "source": [
    "# if hparams['file_path'] already has samples, append the new ones\n",
    "with open(hparams['saved_data_filepath'], '+a') as file:\n",
    "    file.write(lines)\n",
    "print(f\"new samples saved in '{hparams['saved_data_filepath']}'\")"
   ]
  },
  {
   "cell_type": "markdown",
   "metadata": {},
   "source": [
    "## 6) Sanity check: try to load the data"
   ]
  },
  {
   "cell_type": "code",
   "execution_count": null,
   "metadata": {},
   "outputs": [],
   "source": [
    "sep = ';'\n",
    "with open(hparams['saved_data_filepath'], 'r') as file:\n",
    "    lines = file.read().split(sep)[:-1]  # last line is ''\n",
    "\n",
    "# undo the changed made to save the pairs (obs, action)\n",
    "loaded_obs, loaded_actions = [], []\n",
    "for line in lines:\n",
    "    flat_obs = [int(i) for i in line[:-1]]\n",
    "    new_obs = np.array(flat_obs).reshape((6,7))\n",
    "    new_obs[new_obs==2] = -1\n",
    "    loaded_obs.append(new_obs)\n",
    "    loaded_actions.append(int(line[-1]))\n",
    "print(f\"{len(loaded_obs)} (obs, action) pairs loaded from '{hparams['saved_data_filepath']}'\")"
   ]
  },
  {
   "cell_type": "code",
   "execution_count": null,
   "metadata": {},
   "outputs": [],
   "source": [
    "last_n_samples = 10\n",
    "\n",
    "for i in range(last_n_samples):\n",
    "    print(loaded_obs[-i])\n",
    "    print('action =', loaded_actions[-i])\n",
    "    print('-'*50)"
   ]
  }
 ],
 "metadata": {
  "kernelspec": {
   "display_name": "Python 3",
   "language": "python",
   "name": "python3"
  },
  "language_info": {
   "codemirror_mode": {
    "name": "ipython",
    "version": 3
   },
   "file_extension": ".py",
   "mimetype": "text/x-python",
   "name": "python",
   "nbconvert_exporter": "python",
   "pygments_lexer": "ipython3",
   "version": "3.8.10"
  }
 },
 "nbformat": 4,
 "nbformat_minor": 4
}
